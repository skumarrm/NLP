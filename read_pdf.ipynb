{
  "nbformat": 4,
  "nbformat_minor": 0,
  "metadata": {
    "colab": {
      "provenance": [],
      "authorship_tag": "ABX9TyOMMl7kv5zgyQAZebWZxdlW",
      "include_colab_link": true
    },
    "kernelspec": {
      "name": "python3",
      "display_name": "Python 3"
    },
    "language_info": {
      "name": "python"
    }
  },
  "cells": [
    {
      "cell_type": "markdown",
      "metadata": {
        "id": "view-in-github",
        "colab_type": "text"
      },
      "source": [
        "<a href=\"https://colab.research.google.com/github/skumarrm/NLP/blob/main/read_pdf.ipynb\" target=\"_parent\"><img src=\"https://colab.research.google.com/assets/colab-badge.svg\" alt=\"Open In Colab\"/></a>"
      ]
    },
    {
      "cell_type": "markdown",
      "source": [
        "---\n",
        "\n",
        "\n",
        "1.   Extracting text from PDF\n",
        "2.   Rotating PDF pages\n",
        "3.   Merging PDFs\n",
        "4.   Splitting PDF\n",
        "5.   Adding watermark to PDF pages\n",
        "\n",
        "\n",
        "\n",
        "---\n",
        "\n",
        "\n",
        "\n",
        "\n"
      ],
      "metadata": {
        "id": "8NXwIkUMatwX"
      }
    },
    {
      "cell_type": "code",
      "source": [
        "# Install required Packages\n",
        "!pip install PyPDF2"
      ],
      "metadata": {
        "id": "RpzPUEJlcaRw"
      },
      "execution_count": null,
      "outputs": []
    },
    {
      "cell_type": "code",
      "execution_count": null,
      "metadata": {
        "id": "SFCA1LSZaEsn",
        "colab": {
          "base_uri": "https://localhost:8080/"
        },
        "outputId": "d489c2ec-0106-4a48-d7d2-eb58a2b00a01"
      },
      "outputs": [
        {
          "output_type": "stream",
          "name": "stdout",
          "text": [
            "1\n",
            "SEN THIL KUM ARR M ALLI SUD ARSANThis acknowledges that\n",
            "has successfully completed all the r equir ements t o be r ecogniz ed as\n",
            "Google Cloud Cer tified\n",
            "Professional Data Engineer\n",
            "Series ID: 14102\n",
            "Issue Date: 30 Dec 2020\n",
            "Expir ation Date: 30 Dec 2024\n",
            "Certification ID: rZHF JV\n",
            "Certified As: SEN THIL KUM ARR M ALLI SUD ARSANThomas K urian\n",
            "CEO, Google Cloud\n",
            "\n"
          ]
        }
      ],
      "source": [
        "# Extracting text from PDF\n",
        "# importing required modules\n",
        "import PyPDF2\n",
        "\n",
        "# creating a pdf file object\n",
        "pdfFileObj = open('/content/sample_data/gcp_de.pdf', 'rb')\n",
        "\n",
        "# creating a pdf reader object\n",
        "pdfReader = PyPDF2.PdfReader(pdfFileObj)\n",
        "\n",
        "# printing number of pages in pdf file\n",
        "print(len(pdfReader.pages))\n",
        "\n",
        "# creating a page object\n",
        "pageObj = pdfReader.pages[0]\n",
        "\n",
        "# extracting text from page\n",
        "print(pageObj.extract_text())\n",
        "\n",
        "# closing the pdf file object\n",
        "pdfFileObj.close()\n"
      ]
    },
    {
      "cell_type": "code",
      "source": [
        "# importing the required modules\n",
        "import PyPDF2\n",
        "\n",
        "def PDFrotate(origFileName, newFileName, rotation):\n",
        "\n",
        "\t# creating a pdf File object of original pdf\n",
        "\tpdfFileObj = open(origFileName, 'rb')\n",
        "\t\n",
        "\t# creating a pdf Reader object\n",
        "\tpdfReader = PyPDF2.PdfReader(pdfFileObj)\n",
        "\n",
        "\t# creating a pdf writer object for new pdf\n",
        "\tpdfWriter = PyPDF2.PdfWriter()\n",
        "\t\n",
        "\t# rotating each page\n",
        "\tfor page in range(len(pdfReader.pages)):\n",
        "\n",
        "\t\t# creating rotated page object\n",
        "\t\tpageObj = pdfReader.pages[page]\n",
        "\t\tpageObj.rotate(rotation)\n",
        "\n",
        "\t\t# adding rotated page object to pdf writer\n",
        "\t\tpdfWriter.add_page(pageObj)\n",
        "\n",
        "\t# new pdf file object\n",
        "\tnewFile = open(newFileName, 'wb')\n",
        "\t\n",
        "\t# writing rotated pages to new file\n",
        "\tpdfWriter.write(newFile)\n",
        "\n",
        "\t# closing the original pdf file object\n",
        "\tpdfFileObj.close()\n",
        "\t\n",
        "\t# closing the new pdf file object\n",
        "\tnewFile.close()\n",
        "\t\n",
        "\n",
        "def main():\n",
        "\n",
        "\t# original pdf file name\n",
        "\torigFileName = '/content/sample_data/gcp_de.pdf'\n",
        "\t\n",
        "\t# new pdf file name\n",
        "\tnewFileName = '/content/sample_data/rotated_gcp_de.pdf'\n",
        "\t\n",
        "\t# rotation angle\n",
        "\trotation = -90\n",
        "\t\n",
        "\t# calling the PDFrotate function\n",
        "\tPDFrotate(origFileName, newFileName, rotation)\n",
        "\t\n",
        "if __name__ == \"__main__\":\n",
        "\t# calling the main function\n",
        "\tmain()\n"
      ],
      "metadata": {
        "id": "BsWHltvFl_mC"
      },
      "execution_count": null,
      "outputs": []
    },
    {
      "cell_type": "code",
      "source": [
        "# importing required modules\n",
        "import PyPDF2\n",
        "\n",
        "\n",
        "def PDFmerge(pdfs, output):\n",
        "\t# creating pdf file merger object\n",
        "\tpdfMerger = PyPDF2.PdfMerger()\n",
        "\n",
        "\t# appending pdfs one by one\n",
        "\tfor pdf in pdfs:\n",
        "\t\tpdfMerger.append(pdf)\n",
        "\n",
        "\t# writing combined pdf to output pdf file\n",
        "\twith open(output, 'wb') as f:\n",
        "\t\tpdfMerger.write(f)\n",
        "\n",
        "\n",
        "def main():\n",
        "\t# pdf files to merge\n",
        "\tpdfs = ['/content/sample_data/gcp_de.pdf', '/content/sample_data/rotated_gcp_de.pdf']\n",
        "\n",
        "\t# output pdf file name\n",
        "\toutput = '/content/sample_data/combined_gcp_de.pdf'\n",
        "\n",
        "\t# calling pdf merge function\n",
        "\tPDFmerge(pdfs=pdfs, output=output)\n",
        "\n",
        "\n",
        "if __name__ == \"__main__\":\n",
        "\t# calling the main function\n",
        "\tmain()\n"
      ],
      "metadata": {
        "id": "BVGaTi21nqz0"
      },
      "execution_count": null,
      "outputs": []
    },
    {
      "cell_type": "code",
      "source": [
        "# importing the required modules\n",
        "import PyPDF2\n",
        "\n",
        "def PDFsplit(pdf, splits):\n",
        "\t# creating input pdf file object\n",
        "\tpdfFileObj = open(pdf, 'rb')\n",
        "\t\n",
        "\t# creating pdf reader object\n",
        "\tpdfReader = PyPDF2.PdfReader(pdfFileObj)\n",
        "\t\n",
        "\t# starting index of first slice\n",
        "\tstart = 0\n",
        "\t\n",
        "\t# starting index of last slice\n",
        "\tend = splits[0]\n",
        "\t\n",
        "\t\n",
        "\tfor i in range(len(splits)+1):\n",
        "\t\t# creating pdf writer object for (i+1)th split\n",
        "\t\tpdfWriter = PyPDF2.PdfWriter()\n",
        "\t\t\n",
        "\t\t# output pdf file name\n",
        "\t\toutputpdf = pdf.split('.pdf')[0] + str(i) + '.pdf'\n",
        "\t\t\n",
        "\t\t# adding pages to pdf writer object\n",
        "\t\tfor page in range(start,end):\n",
        "\t\t\tpdfWriter.add_page(pdfReader.pages[page])\n",
        "\t\t\n",
        "\t\t# writing split pdf pages to pdf file\n",
        "\t\twith open(outputpdf, \"wb\") as f:\n",
        "\t\t\tpdfWriter.write(f)\n",
        "\n",
        "\t\t# interchanging page split start position for next split\n",
        "\t\tstart = end\n",
        "\t\ttry:\n",
        "\t\t\t# setting split end position for next split\n",
        "\t\t\tend = splits[i+1]\n",
        "\t\texcept IndexError:\n",
        "\t\t\t# setting split end position for last split\n",
        "\t\t\tend = len(pdfReader.pages)\n",
        "\t\t\n",
        "\t# closing the input pdf file object\n",
        "\tpdfFileObj.close()\n",
        "\t\t\t\n",
        "def main():\n",
        "\t# pdf file to split\n",
        "\tpdf = '/content/sample_data/combined_gcp_de.pdf'\n",
        "\t\n",
        "\t# split page positions\n",
        "\tsplits = [0,1]\n",
        "\t\n",
        "\t# calling PDFsplit function to split pdf\n",
        "\tPDFsplit(pdf, splits)\n",
        "\n",
        "if __name__ == \"__main__\":\n",
        "\t# calling the main function\n",
        "\tmain()\n"
      ],
      "metadata": {
        "id": "jnDJb7FhoMXB"
      },
      "execution_count": null,
      "outputs": []
    }
  ]
}